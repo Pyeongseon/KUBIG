{
  "cells": [
    {
      "cell_type": "code",
      "execution_count": null,
      "metadata": {
        "id": "D8W2aL9OOIrq"
      },
      "outputs": [],
      "source": [
        "#Mandatory imports\n",
        "import numpy as np\n",
        "import pandas as pd\n",
        "from sklearn.model_selection import train_test_split\n",
        "from sklearn.metrics import log_loss\n",
        "from sklearn.model_selection import StratifiedKFold, StratifiedShuffleSplit\n",
        "from os.path import join as opj\n",
        "from matplotlib import pyplot as plt\n",
        "from mpl_toolkits.mplot3d import Axes3D\n",
        "import pylab\n",
        "plt.rcParams['figure.figsize'] = 10, 10\n",
        "%matplotlib inline"
      ]
    },
    {
      "cell_type": "code",
      "execution_count": null,
      "metadata": {
        "id": "w64A8W8fPVqZ"
      },
      "outputs": [],
      "source": [
        "train = pd.read_json(\"/content/drive/MyDrive/KUBIG/데이터분석 스터디/train.json/data/processed/train.json\")\n",
        "target_train=train['is_iceberg']\n",
        "test = pd.read_json(\"/content/drive/MyDrive/KUBIG/데이터분석 스터디/test.json/data/processed/test.json\")"
      ]
    },
    {
      "cell_type": "code",
      "execution_count": null,
      "metadata": {
        "colab": {
          "base_uri": "https://localhost:8080/"
        },
        "id": "r77LLi9DnmV3",
        "outputId": "a6dabf5d-e159-4bce-97ff-92447c8f2c3f"
      },
      "outputs": [
        {
          "output_type": "execute_result",
          "data": {
            "text/plain": [
              "5625"
            ]
          },
          "metadata": {},
          "execution_count": 3
        }
      ],
      "source": [
        "len(train['band_1'][0])"
      ]
    },
    {
      "cell_type": "code",
      "execution_count": null,
      "metadata": {
        "colab": {
          "base_uri": "https://localhost:8080/"
        },
        "id": "CCxSUI_xSgkr",
        "outputId": "59532bff-bf77-4eb5-afcf-d9c96ace6dba"
      },
      "outputs": [
        {
          "output_type": "stream",
          "name": "stdout",
          "text": [
            "Collecting keras-layer-normalization\n",
            "  Downloading keras-layer-normalization-0.16.0.tar.gz (3.9 kB)\n",
            "  Preparing metadata (setup.py) ... \u001b[?25l\u001b[?25hdone\n",
            "Requirement already satisfied: numpy in /usr/local/lib/python3.10/dist-packages (from keras-layer-normalization) (1.25.2)\n",
            "Building wheels for collected packages: keras-layer-normalization\n",
            "  Building wheel for keras-layer-normalization (setup.py) ... \u001b[?25l\u001b[?25hdone\n",
            "  Created wheel for keras-layer-normalization: filename=keras_layer_normalization-0.16.0-py3-none-any.whl size=4654 sha256=ed45ffa953337d2381a7a9f02d48f6fc79fc106898be9ac8c0d794d19df48b3d\n",
            "  Stored in directory: /root/.cache/pip/wheels/ed/3a/4b/21db23c0cc56c4b219616e181f258eb7c57d36cc5d056fae9a\n",
            "Successfully built keras-layer-normalization\n",
            "Installing collected packages: keras-layer-normalization\n",
            "Successfully installed keras-layer-normalization-0.16.0\n"
          ]
        }
      ],
      "source": [
        "!pip install keras-layer-normalization"
      ]
    },
    {
      "cell_type": "code",
      "execution_count": null,
      "metadata": {
        "colab": {
          "base_uri": "https://localhost:8080/"
        },
        "id": "WE5UwVINqLW_",
        "outputId": "eee74ad3-3ce2-4152-e147-f8c4f6e0fd49"
      },
      "outputs": [
        {
          "output_type": "execute_result",
          "data": {
            "text/plain": [
              "id            0\n",
              "band_1        0\n",
              "band_2        0\n",
              "inc_angle     0\n",
              "is_iceberg    0\n",
              "dtype: int64"
            ]
          },
          "metadata": {},
          "execution_count": 5
        }
      ],
      "source": [
        "train.isna().sum()"
      ]
    },
    {
      "cell_type": "code",
      "execution_count": null,
      "metadata": {
        "colab": {
          "base_uri": "https://localhost:8080/",
          "height": 293
        },
        "id": "BmZ3NuhsLTyg",
        "outputId": "50221808-2242-434d-d0ae-e1b3dda9b66e"
      },
      "outputs": [
        {
          "output_type": "execute_result",
          "data": {
            "text/plain": [
              "         id                                             band_1  \\\n",
              "0  dfd5f913  [-27.878360999999998, -27.15416, -28.668615, -...   \n",
              "1  e25388fd  [-12.242375, -14.920304999999999, -14.920363, ...   \n",
              "2  58b2aaa0  [-24.603676, -24.603714, -24.871029, -23.15277...   \n",
              "3  4cfc3a18  [-22.454607, -23.082819, -23.998013, -23.99805...   \n",
              "4  271f93f4  [-26.006956, -23.164886, -23.164886, -26.89116...   \n",
              "\n",
              "                                              band_2 inc_angle  is_iceberg  \n",
              "0  [-27.154118, -29.537888, -31.0306, -32.190483,...   43.9239           0  \n",
              "1  [-31.506321, -27.984554, -26.645678, -23.76760...   38.1562           0  \n",
              "2  [-24.870956, -24.092632, -20.653963, -19.41104...   45.2859           1  \n",
              "3  [-27.889421, -27.519794, -27.165262, -29.10350...   43.8306           0  \n",
              "4  [-27.206915, -30.259186, -30.259186, -23.16495...   35.6256           0  "
            ],
            "text/html": [
              "\n",
              "  <div id=\"df-88475122-c3b2-45e8-8743-5caafd9937c1\" class=\"colab-df-container\">\n",
              "    <div>\n",
              "<style scoped>\n",
              "    .dataframe tbody tr th:only-of-type {\n",
              "        vertical-align: middle;\n",
              "    }\n",
              "\n",
              "    .dataframe tbody tr th {\n",
              "        vertical-align: top;\n",
              "    }\n",
              "\n",
              "    .dataframe thead th {\n",
              "        text-align: right;\n",
              "    }\n",
              "</style>\n",
              "<table border=\"1\" class=\"dataframe\">\n",
              "  <thead>\n",
              "    <tr style=\"text-align: right;\">\n",
              "      <th></th>\n",
              "      <th>id</th>\n",
              "      <th>band_1</th>\n",
              "      <th>band_2</th>\n",
              "      <th>inc_angle</th>\n",
              "      <th>is_iceberg</th>\n",
              "    </tr>\n",
              "  </thead>\n",
              "  <tbody>\n",
              "    <tr>\n",
              "      <th>0</th>\n",
              "      <td>dfd5f913</td>\n",
              "      <td>[-27.878360999999998, -27.15416, -28.668615, -...</td>\n",
              "      <td>[-27.154118, -29.537888, -31.0306, -32.190483,...</td>\n",
              "      <td>43.9239</td>\n",
              "      <td>0</td>\n",
              "    </tr>\n",
              "    <tr>\n",
              "      <th>1</th>\n",
              "      <td>e25388fd</td>\n",
              "      <td>[-12.242375, -14.920304999999999, -14.920363, ...</td>\n",
              "      <td>[-31.506321, -27.984554, -26.645678, -23.76760...</td>\n",
              "      <td>38.1562</td>\n",
              "      <td>0</td>\n",
              "    </tr>\n",
              "    <tr>\n",
              "      <th>2</th>\n",
              "      <td>58b2aaa0</td>\n",
              "      <td>[-24.603676, -24.603714, -24.871029, -23.15277...</td>\n",
              "      <td>[-24.870956, -24.092632, -20.653963, -19.41104...</td>\n",
              "      <td>45.2859</td>\n",
              "      <td>1</td>\n",
              "    </tr>\n",
              "    <tr>\n",
              "      <th>3</th>\n",
              "      <td>4cfc3a18</td>\n",
              "      <td>[-22.454607, -23.082819, -23.998013, -23.99805...</td>\n",
              "      <td>[-27.889421, -27.519794, -27.165262, -29.10350...</td>\n",
              "      <td>43.8306</td>\n",
              "      <td>0</td>\n",
              "    </tr>\n",
              "    <tr>\n",
              "      <th>4</th>\n",
              "      <td>271f93f4</td>\n",
              "      <td>[-26.006956, -23.164886, -23.164886, -26.89116...</td>\n",
              "      <td>[-27.206915, -30.259186, -30.259186, -23.16495...</td>\n",
              "      <td>35.6256</td>\n",
              "      <td>0</td>\n",
              "    </tr>\n",
              "  </tbody>\n",
              "</table>\n",
              "</div>\n",
              "    <div class=\"colab-df-buttons\">\n",
              "\n",
              "  <div class=\"colab-df-container\">\n",
              "    <button class=\"colab-df-convert\" onclick=\"convertToInteractive('df-88475122-c3b2-45e8-8743-5caafd9937c1')\"\n",
              "            title=\"Convert this dataframe to an interactive table.\"\n",
              "            style=\"display:none;\">\n",
              "\n",
              "  <svg xmlns=\"http://www.w3.org/2000/svg\" height=\"24px\" viewBox=\"0 -960 960 960\">\n",
              "    <path d=\"M120-120v-720h720v720H120Zm60-500h600v-160H180v160Zm220 220h160v-160H400v160Zm0 220h160v-160H400v160ZM180-400h160v-160H180v160Zm440 0h160v-160H620v160ZM180-180h160v-160H180v160Zm440 0h160v-160H620v160Z\"/>\n",
              "  </svg>\n",
              "    </button>\n",
              "\n",
              "  <style>\n",
              "    .colab-df-container {\n",
              "      display:flex;\n",
              "      gap: 12px;\n",
              "    }\n",
              "\n",
              "    .colab-df-convert {\n",
              "      background-color: #E8F0FE;\n",
              "      border: none;\n",
              "      border-radius: 50%;\n",
              "      cursor: pointer;\n",
              "      display: none;\n",
              "      fill: #1967D2;\n",
              "      height: 32px;\n",
              "      padding: 0 0 0 0;\n",
              "      width: 32px;\n",
              "    }\n",
              "\n",
              "    .colab-df-convert:hover {\n",
              "      background-color: #E2EBFA;\n",
              "      box-shadow: 0px 1px 2px rgba(60, 64, 67, 0.3), 0px 1px 3px 1px rgba(60, 64, 67, 0.15);\n",
              "      fill: #174EA6;\n",
              "    }\n",
              "\n",
              "    .colab-df-buttons div {\n",
              "      margin-bottom: 4px;\n",
              "    }\n",
              "\n",
              "    [theme=dark] .colab-df-convert {\n",
              "      background-color: #3B4455;\n",
              "      fill: #D2E3FC;\n",
              "    }\n",
              "\n",
              "    [theme=dark] .colab-df-convert:hover {\n",
              "      background-color: #434B5C;\n",
              "      box-shadow: 0px 1px 3px 1px rgba(0, 0, 0, 0.15);\n",
              "      filter: drop-shadow(0px 1px 2px rgba(0, 0, 0, 0.3));\n",
              "      fill: #FFFFFF;\n",
              "    }\n",
              "  </style>\n",
              "\n",
              "    <script>\n",
              "      const buttonEl =\n",
              "        document.querySelector('#df-88475122-c3b2-45e8-8743-5caafd9937c1 button.colab-df-convert');\n",
              "      buttonEl.style.display =\n",
              "        google.colab.kernel.accessAllowed ? 'block' : 'none';\n",
              "\n",
              "      async function convertToInteractive(key) {\n",
              "        const element = document.querySelector('#df-88475122-c3b2-45e8-8743-5caafd9937c1');\n",
              "        const dataTable =\n",
              "          await google.colab.kernel.invokeFunction('convertToInteractive',\n",
              "                                                    [key], {});\n",
              "        if (!dataTable) return;\n",
              "\n",
              "        const docLinkHtml = 'Like what you see? Visit the ' +\n",
              "          '<a target=\"_blank\" href=https://colab.research.google.com/notebooks/data_table.ipynb>data table notebook</a>'\n",
              "          + ' to learn more about interactive tables.';\n",
              "        element.innerHTML = '';\n",
              "        dataTable['output_type'] = 'display_data';\n",
              "        await google.colab.output.renderOutput(dataTable, element);\n",
              "        const docLink = document.createElement('div');\n",
              "        docLink.innerHTML = docLinkHtml;\n",
              "        element.appendChild(docLink);\n",
              "      }\n",
              "    </script>\n",
              "  </div>\n",
              "\n",
              "\n",
              "<div id=\"df-09394267-f557-483d-a599-b479f38724f2\">\n",
              "  <button class=\"colab-df-quickchart\" onclick=\"quickchart('df-09394267-f557-483d-a599-b479f38724f2')\"\n",
              "            title=\"Suggest charts\"\n",
              "            style=\"display:none;\">\n",
              "\n",
              "<svg xmlns=\"http://www.w3.org/2000/svg\" height=\"24px\"viewBox=\"0 0 24 24\"\n",
              "     width=\"24px\">\n",
              "    <g>\n",
              "        <path d=\"M19 3H5c-1.1 0-2 .9-2 2v14c0 1.1.9 2 2 2h14c1.1 0 2-.9 2-2V5c0-1.1-.9-2-2-2zM9 17H7v-7h2v7zm4 0h-2V7h2v10zm4 0h-2v-4h2v4z\"/>\n",
              "    </g>\n",
              "</svg>\n",
              "  </button>\n",
              "\n",
              "<style>\n",
              "  .colab-df-quickchart {\n",
              "      --bg-color: #E8F0FE;\n",
              "      --fill-color: #1967D2;\n",
              "      --hover-bg-color: #E2EBFA;\n",
              "      --hover-fill-color: #174EA6;\n",
              "      --disabled-fill-color: #AAA;\n",
              "      --disabled-bg-color: #DDD;\n",
              "  }\n",
              "\n",
              "  [theme=dark] .colab-df-quickchart {\n",
              "      --bg-color: #3B4455;\n",
              "      --fill-color: #D2E3FC;\n",
              "      --hover-bg-color: #434B5C;\n",
              "      --hover-fill-color: #FFFFFF;\n",
              "      --disabled-bg-color: #3B4455;\n",
              "      --disabled-fill-color: #666;\n",
              "  }\n",
              "\n",
              "  .colab-df-quickchart {\n",
              "    background-color: var(--bg-color);\n",
              "    border: none;\n",
              "    border-radius: 50%;\n",
              "    cursor: pointer;\n",
              "    display: none;\n",
              "    fill: var(--fill-color);\n",
              "    height: 32px;\n",
              "    padding: 0;\n",
              "    width: 32px;\n",
              "  }\n",
              "\n",
              "  .colab-df-quickchart:hover {\n",
              "    background-color: var(--hover-bg-color);\n",
              "    box-shadow: 0 1px 2px rgba(60, 64, 67, 0.3), 0 1px 3px 1px rgba(60, 64, 67, 0.15);\n",
              "    fill: var(--button-hover-fill-color);\n",
              "  }\n",
              "\n",
              "  .colab-df-quickchart-complete:disabled,\n",
              "  .colab-df-quickchart-complete:disabled:hover {\n",
              "    background-color: var(--disabled-bg-color);\n",
              "    fill: var(--disabled-fill-color);\n",
              "    box-shadow: none;\n",
              "  }\n",
              "\n",
              "  .colab-df-spinner {\n",
              "    border: 2px solid var(--fill-color);\n",
              "    border-color: transparent;\n",
              "    border-bottom-color: var(--fill-color);\n",
              "    animation:\n",
              "      spin 1s steps(1) infinite;\n",
              "  }\n",
              "\n",
              "  @keyframes spin {\n",
              "    0% {\n",
              "      border-color: transparent;\n",
              "      border-bottom-color: var(--fill-color);\n",
              "      border-left-color: var(--fill-color);\n",
              "    }\n",
              "    20% {\n",
              "      border-color: transparent;\n",
              "      border-left-color: var(--fill-color);\n",
              "      border-top-color: var(--fill-color);\n",
              "    }\n",
              "    30% {\n",
              "      border-color: transparent;\n",
              "      border-left-color: var(--fill-color);\n",
              "      border-top-color: var(--fill-color);\n",
              "      border-right-color: var(--fill-color);\n",
              "    }\n",
              "    40% {\n",
              "      border-color: transparent;\n",
              "      border-right-color: var(--fill-color);\n",
              "      border-top-color: var(--fill-color);\n",
              "    }\n",
              "    60% {\n",
              "      border-color: transparent;\n",
              "      border-right-color: var(--fill-color);\n",
              "    }\n",
              "    80% {\n",
              "      border-color: transparent;\n",
              "      border-right-color: var(--fill-color);\n",
              "      border-bottom-color: var(--fill-color);\n",
              "    }\n",
              "    90% {\n",
              "      border-color: transparent;\n",
              "      border-bottom-color: var(--fill-color);\n",
              "    }\n",
              "  }\n",
              "</style>\n",
              "\n",
              "  <script>\n",
              "    async function quickchart(key) {\n",
              "      const quickchartButtonEl =\n",
              "        document.querySelector('#' + key + ' button');\n",
              "      quickchartButtonEl.disabled = true;  // To prevent multiple clicks.\n",
              "      quickchartButtonEl.classList.add('colab-df-spinner');\n",
              "      try {\n",
              "        const charts = await google.colab.kernel.invokeFunction(\n",
              "            'suggestCharts', [key], {});\n",
              "      } catch (error) {\n",
              "        console.error('Error during call to suggestCharts:', error);\n",
              "      }\n",
              "      quickchartButtonEl.classList.remove('colab-df-spinner');\n",
              "      quickchartButtonEl.classList.add('colab-df-quickchart-complete');\n",
              "    }\n",
              "    (() => {\n",
              "      let quickchartButtonEl =\n",
              "        document.querySelector('#df-09394267-f557-483d-a599-b479f38724f2 button');\n",
              "      quickchartButtonEl.style.display =\n",
              "        google.colab.kernel.accessAllowed ? 'block' : 'none';\n",
              "    })();\n",
              "  </script>\n",
              "</div>\n",
              "\n",
              "    </div>\n",
              "  </div>\n"
            ],
            "application/vnd.google.colaboratory.intrinsic+json": {
              "type": "dataframe",
              "variable_name": "train",
              "summary": "{\n  \"name\": \"train\",\n  \"rows\": 1604,\n  \"fields\": [\n    {\n      \"column\": \"id\",\n      \"properties\": {\n        \"dtype\": \"string\",\n        \"num_unique_values\": 1604,\n        \"samples\": [\n          \"f06ecb96\",\n          \"974931df\",\n          \"d6566373\"\n        ],\n        \"semantic_type\": \"\",\n        \"description\": \"\"\n      }\n    },\n    {\n      \"column\": \"band_1\",\n      \"properties\": {\n        \"dtype\": \"object\",\n        \"semantic_type\": \"\",\n        \"description\": \"\"\n      }\n    },\n    {\n      \"column\": \"band_2\",\n      \"properties\": {\n        \"dtype\": \"object\",\n        \"semantic_type\": \"\",\n        \"description\": \"\"\n      }\n    },\n    {\n      \"column\": \"inc_angle\",\n      \"properties\": {\n        \"dtype\": \"string\",\n        \"num_unique_values\": 879,\n        \"samples\": [\n          42.542,\n          41.7568,\n          43.1082\n        ],\n        \"semantic_type\": \"\",\n        \"description\": \"\"\n      }\n    },\n    {\n      \"column\": \"is_iceberg\",\n      \"properties\": {\n        \"dtype\": \"number\",\n        \"std\": 0,\n        \"min\": 0,\n        \"max\": 1,\n        \"num_unique_values\": 2,\n        \"samples\": [\n          1,\n          0\n        ],\n        \"semantic_type\": \"\",\n        \"description\": \"\"\n      }\n    }\n  ]\n}"
            }
          },
          "metadata": {},
          "execution_count": 6
        }
      ],
      "source": [
        "train.head()"
      ]
    },
    {
      "cell_type": "code",
      "execution_count": null,
      "metadata": {
        "id": "Udeu3mqoqLbv"
      },
      "outputs": [],
      "source": [
        "#target 설정 : is_iceberg\n",
        "target_train=train['is_iceberg']"
      ]
    },
    {
      "cell_type": "code",
      "execution_count": null,
      "metadata": {
        "id": "sGyeD2IlqLfe"
      },
      "outputs": [],
      "source": [
        "#inc_angle에 NA 확인\n",
        "test['inc_angle']=pd.to_numeric(test['inc_angle'], errors='coerce')\n",
        "train['inc_angle']=pd.to_numeric(train['inc_angle'], errors='coerce')#We have only 133 NAs -> NaN으로 만들어버림."
      ]
    },
    {
      "cell_type": "code",
      "execution_count": null,
      "metadata": {
        "id": "-rQ3lCvQreqD"
      },
      "outputs": [],
      "source": [
        "#NA를 채우기 pad방식은 바로 이전 데이터를 그대로 복사붙여넣기한다는 뜻.\n",
        "train['inc_angle']=train['inc_angle'].fillna(method='pad')"
      ]
    },
    {
      "cell_type": "code",
      "execution_count": null,
      "metadata": {
        "id": "H-rM82g9retV"
      },
      "outputs": [],
      "source": [
        "X_angle=train['inc_angle']\n",
        "test['inc_angle']=pd.to_numeric(test['inc_angle'], errors='coerce')\n",
        "X_test_angle=test['inc_angle']"
      ]
    },
    {
      "cell_type": "code",
      "execution_count": null,
      "metadata": {
        "id": "POnB2iU7rewh"
      },
      "outputs": [],
      "source": [
        "#Generate the training data\n",
        "X_band_1=np.array([np.array(band).astype(np.float32).reshape(75, 75) for band in train[\"band_1\"]])\n",
        "#왜 reshape를 75,75로 해야 하는거야?? 원래 픽셀이미지가 75*75여서\n",
        "X_band_2=np.array([np.array(band).astype(np.float32).reshape(75, 75) for band in train[\"band_2\"]])\n",
        "X_band_3=(X_band_1+X_band_2)/2"
      ]
    },
    {
      "cell_type": "code",
      "execution_count": null,
      "metadata": {
        "id": "QYvZczZKre3e"
      },
      "outputs": [],
      "source": [
        "#?왜 여기서 band_3을 평균값을 만들었을까? 그냥 하나의 feature를 더 만들어준 것\n",
        "#X_band_3=np.array([np.full((75, 75), angel).astype(np.float32) for angel in train[\"inc_angle\"]])\n",
        "X_train = np.concatenate([X_band_1[:, :, :, np.newaxis]\n",
        "                          , X_band_2[:, :, :, np.newaxis]\n",
        "                         , X_band_3[:, :, :, np.newaxis]], axis=-1)"
      ]
    },
    {
      "cell_type": "code",
      "execution_count": null,
      "metadata": {
        "colab": {
          "base_uri": "https://localhost:8080/"
        },
        "id": "Fcvx_pUrre4-",
        "outputId": "e19536b7-c58f-4037-e937-e12e1cad8e20"
      },
      "outputs": [
        {
          "output_type": "execute_result",
          "data": {
            "text/plain": [
              "(1604, 75, 75, 3)"
            ]
          },
          "metadata": {},
          "execution_count": 13
        }
      ],
      "source": [
        "X_train.shape"
      ]
    },
    {
      "cell_type": "code",
      "execution_count": null,
      "metadata": {
        "colab": {
          "base_uri": "https://localhost:8080/"
        },
        "id": "XMHzR_LFre75",
        "outputId": "67416c07-1965-4b47-a2f8-0ce5737179f4"
      },
      "outputs": [
        {
          "output_type": "execute_result",
          "data": {
            "text/plain": [
              "array([[[[-27.87836 , -27.154118, -27.51624 ],\n",
              "         [-27.15416 , -29.537888, -28.346024],\n",
              "         [-28.668615, -31.0306  , -29.849607],\n",
              "         ...,\n",
              "         [-25.573483, -29.095308, -27.334396],\n",
              "         [-26.488674, -29.540878, -28.014776],\n",
              "         [-30.507013, -27.511766, -29.00939 ]],\n",
              "\n",
              "        [[-28.66853 , -31.030518, -29.849524],\n",
              "         [-27.8784  , -33.529335, -30.703869],\n",
              "         [-27.508776, -31.591175, -29.549976],\n",
              "         ...,\n",
              "         [-26.488632, -34.288055, -30.388344],\n",
              "         [-28.671562, -28.267496, -28.469528],\n",
              "         [-31.594166, -26.488716, -29.041441]],\n",
              "\n",
              "        [[-28.66853 , -33.52929 , -31.09891 ],\n",
              "         [-27.15416 , -37.05116 , -32.10266 ],\n",
              "         [-25.865042, -31.591175, -28.728107],\n",
              "         ...,\n",
              "         [-27.157106, -31.594084, -29.375595],\n",
              "         [-27.881393, -32.19339 , -30.037392],\n",
              "         [-32.837124, -29.54092 , -31.189022]],\n",
              "\n",
              "        ...,\n",
              "\n",
              "        [[-29.092905, -27.87895 , -28.485928],\n",
              "         [-28.669163, -27.878992, -28.274078],\n",
              "         [-30.504612, -30.00814 , -30.256376],\n",
              "         ...,\n",
              "         [-30.011005, -25.28922 , -27.650112],\n",
              "         [-25.868538, -27.512272, -26.690405],\n",
              "         [-26.489265, -28.672153, -27.58071 ]],\n",
              "\n",
              "        [[-31.591682, -29.538437, -30.56506 ],\n",
              "         [-27.878992, -29.538477, -28.708735],\n",
              "         [-28.669205, -29.09299 , -28.881098],\n",
              "         ...,\n",
              "         [-27.512272, -28.672112, -28.092192],\n",
              "         [-26.817074, -28.268087, -27.54258 ],\n",
              "         [-27.512358, -33.53296 , -30.52266 ]],\n",
              "\n",
              "        [[-29.092905, -30.008057, -29.55048 ],\n",
              "         [-26.814081, -28.669163, -27.741623],\n",
              "         [-27.15479 , -27.509365, -27.332077],\n",
              "         ...,\n",
              "         [-26.817032, -30.507519, -28.662275],\n",
              "         [-27.881983, -28.672153, -28.27707 ],\n",
              "         [-28.268127, -29.095982, -28.682055]]],\n",
              "\n",
              "\n",
              "       [[[-12.242375, -31.50632 , -21.874348],\n",
              "         [-14.920305, -27.984554, -21.45243 ],\n",
              "         [-14.920363, -26.645678, -20.78302 ],\n",
              "         ...,\n",
              "         [-10.633402, -25.765633, -18.199516],\n",
              "         [-11.956054, -24.466875, -18.211464],\n",
              "         [-14.379026, -25.489983, -19.934505]],\n",
              "\n",
              "        [[-13.046626, -25.485723, -19.266174],\n",
              "         [-14.077841, -24.959202, -19.51852 ],\n",
              "         [-12.728542, -26.340878, -19.53471 ],\n",
              "         ...,\n",
              "         [-11.243189, -28.358309, -19.800749],\n",
              "         [-11.786291, -27.9887  , -19.887497],\n",
              "         [-14.379026, -25.76575 , -20.072388]],\n",
              "\n",
              "        [[-15.248114, -24.70742 , -19.977768],\n",
              "         [-14.0779  , -28.354282, -21.216091],\n",
              "         [-12.604514, -26.04647 , -19.325493],\n",
              "         ...,\n",
              "         [-15.680162, -25.489866, -20.585014],\n",
              "         [-13.51685 , -26.649763, -20.083307],\n",
              "         [-14.454887, -30.487534, -22.47121 ]],\n",
              "\n",
              "        ...,\n",
              "\n",
              "        [[-15.589596, -27.985373, -21.787483],\n",
              "         [-16.899685, -26.646496, -21.77309 ],\n",
              "         [-17.527912, -26.047287, -21.7876  ],\n",
              "         ...,\n",
              "         [-11.78711 , -27.294277, -19.540693],\n",
              "         [-10.883234, -29.149418, -20.016327],\n",
              "         [-12.306804, -27.294395, -19.8006  ]],\n",
              "\n",
              "        [[-14.761801, -29.569056, -22.165428],\n",
              "         [-15.503286, -27.630913, -21.5671  ],\n",
              "         [-15.333027, -24.960194, -20.14661 ],\n",
              "         ...,\n",
              "         [ -9.793052, -24.467695, -17.130373],\n",
              "         [ -8.062263, -23.99813 , -16.030197],\n",
              "         [ -9.882715, -25.766628, -17.824673]],\n",
              "\n",
              "        [[-13.178177, -28.741203, -20.95969 ],\n",
              "         [-15.503286, -24.960135, -20.23171 ],\n",
              "         [-14.375814, -26.341812, -20.358814],\n",
              "         ...,\n",
              "         [-11.087559, -26.966469, -19.027014],\n",
              "         [ -8.246684, -25.223524, -16.735104],\n",
              "         [ -8.666801, -25.223581, -16.94519 ]]],\n",
              "\n",
              "\n",
              "       [[[-24.603676, -24.870956, -24.737316],\n",
              "         [-24.603714, -24.092632, -24.348173],\n",
              "         [-24.871029, -20.653963, -22.762497],\n",
              "         ...,\n",
              "         [-20.997234, -23.850584, -22.423908],\n",
              "         [-22.511684, -25.728712, -24.120197],\n",
              "         [-22.935509, -24.347132, -23.64132 ]],\n",
              "\n",
              "        [[-19.267359, -25.14672 , -22.207039],\n",
              "         [-21.909742, -22.718315, -22.31403 ],\n",
              "         [-21.349205, -20.653963, -21.001583],\n",
              "         ...,\n",
              "         [-20.825232, -23.612598, -22.218914],\n",
              "         [-23.612637, -23.381   , -23.496819],\n",
              "         [-22.935509, -24.87371 , -23.90461 ]],\n",
              "\n",
              "        [[-20.166702, -25.725994, -22.946348],\n",
              "         [-21.718836, -24.092632, -22.905735],\n",
              "         [-19.856533, -24.60375 , -22.23014 ],\n",
              "         ...,\n",
              "         [-21.35181 , -22.720957, -22.036385],\n",
              "         [-20.825268, -22.307302, -21.566284],\n",
              "         [-22.935509, -24.87371 , -23.90461 ]],\n",
              "\n",
              "        ...,\n",
              "\n",
              "        [[-23.15319 , -24.093122, -23.623158],\n",
              "         [-25.432095, -27.370296, -26.401196],\n",
              "         [-25.432133, -28.126104, -26.779118],\n",
              "         ...,\n",
              "         [-22.51214 , -21.72197 , -22.117054],\n",
              "         [-23.613129, -22.307795, -22.96046 ],\n",
              "         [-27.018402, -23.613167, -25.315784]],\n",
              "\n",
              "        [[-27.015684, -25.726524, -26.371105],\n",
              "         [-26.03136 , -25.726562, -25.878962],\n",
              "         [-25.147324, -24.60428 , -24.875801],\n",
              "         ...,\n",
              "         [-22.108109, -22.935963, -22.522036],\n",
              "         [-21.912952, -24.606922, -23.259937],\n",
              "         [-28.95664 , -24.874239, -26.91544 ]],\n",
              "\n",
              "        [[-22.105429, -24.871483, -23.488457],\n",
              "         [-22.509535, -22.509535, -22.509535],\n",
              "         [-24.34498 , -20.65449 , -22.499735],\n",
              "         ...,\n",
              "         [-21.912914, -24.095802, -23.004358],\n",
              "         [-22.512215, -25.72924 , -24.120728],\n",
              "         [-25.150005, -25.729279, -25.439642]]],\n",
              "\n",
              "\n",
              "       ...,\n",
              "\n",
              "\n",
              "       [[[-18.141895, -25.305355, -21.723625],\n",
              "         [-18.141844, -29.387701, -23.764772],\n",
              "         [-19.01737 , -28.963863, -23.990616],\n",
              "         ...,\n",
              "         [-18.502697, -26.777382, -22.64004 ],\n",
              "         [-18.627625, -24.775028, -21.701326],\n",
              "         [-15.75913 , -23.148878, -19.454004]],\n",
              "\n",
              "        [[-15.853881, -25.038074, -20.445978],\n",
              "         [-17.02674 , -25.038023, -21.032381],\n",
              "         [-21.96629 , -26.46509 , -24.21569 ],\n",
              "         ...,\n",
              "         [-18.502697, -23.808987, -21.155842],\n",
              "         [-17.234905, -23.583315, -20.409111],\n",
              "         [-15.941997, -23.808882, -19.875439]],\n",
              "\n",
              "        [[-14.659876, -25.581171, -20.120523],\n",
              "         [-12.93132 , -25.305355, -19.118338],\n",
              "         [-13.4701  , -25.865877, -19.667988],\n",
              "         ...,\n",
              "         [-17.674896, -22.73534 , -20.205118],\n",
              "         [-19.417847, -23.583366, -21.500607],\n",
              "         [-17.452065, -25.301607, -21.376835]],\n",
              "\n",
              "        ...,\n",
              "\n",
              "        [[-16.519325, -24.7794  , -20.649363],\n",
              "         [-20.445166, -23.367727, -21.906446],\n",
              "         [-21.966917, -23.587582, -22.777248],\n",
              "         ...,\n",
              "         [-19.698633, -25.034952, -22.366793],\n",
              "         [-17.563286, -24.523815, -21.04355 ],\n",
              "         [-17.235426, -26.157167, -21.696297]],\n",
              "\n",
              "        [[-16.133223, -26.16102 , -21.147121],\n",
              "         [-19.018047, -22.94394 , -20.980993],\n",
              "         [-20.60162 , -23.587582, -22.0946  ],\n",
              "         ...,\n",
              "         [-15.942725, -27.105816, -21.524271],\n",
              "         [-20.441471, -23.364029, -21.90275 ],\n",
              "         [-19.418367, -25.577944, -22.498156]],\n",
              "\n",
              "        [[-17.34718 , -26.781704, -22.064442],\n",
              "         [-15.946369, -24.282877, -20.114624],\n",
              "         [-15.76345 , -25.86645 , -20.814949],\n",
              "         ...,\n",
              "         [-15.85081 , -24.279232, -20.065022],\n",
              "         [-17.235529, -24.77565 , -21.005589],\n",
              "         [-18.38001 , -29.830105, -24.105057]]],\n",
              "\n",
              "\n",
              "       [[[-22.455633, -26.070356, -24.262995],\n",
              "         [-25.79466 , -22.093737, -23.944199],\n",
              "         [-26.954567, -21.577662, -24.266113],\n",
              "         ...,\n",
              "         [-21.416647, -23.232794, -22.32472 ],\n",
              "         [-21.09498 , -23.861034, -22.478008],\n",
              "         [-24.538269, -22.098381, -23.318325]],\n",
              "\n",
              "        [[-21.249716, -25.268011, -23.258863],\n",
              "         [-23.641983, -26.070425, -24.856205],\n",
              "         [-22.833479, -24.533693, -23.683586],\n",
              "         ...,\n",
              "         [-20.633675, -23.437248, -22.035461],\n",
              "         [-21.09498 , -23.861034, -22.478008],\n",
              "         [-23.646626, -26.07507 , -24.860847]],\n",
              "\n",
              "        [[-22.83334 , -26.95443 , -24.893885],\n",
              "         [-23.641983, -28.663103, -26.152542],\n",
              "         [-22.833479, -24.533693, -23.683586],\n",
              "         ...,\n",
              "         [-19.380737, -24.306562, -21.84365 ],\n",
              "         [-20.05447 , -24.08101 , -22.067741],\n",
              "         [-20.93861 , -26.075138, -23.506874]],\n",
              "\n",
              "        ...,\n",
              "\n",
              "        [[-19.122337, -22.835068, -20.978703],\n",
              "         [-20.336365, -22.095469, -21.215916],\n",
              "         [-22.274635, -21.579391, -21.927013],\n",
              "         ...,\n",
              "         [-18.637444, -22.839651, -20.738548],\n",
              "         [-18.637512, -23.648293, -21.142902],\n",
              "         [-18.287767, -23.23467 , -20.761219]],\n",
              "\n",
              "        [[-21.413803, -23.85812 , -22.635962],\n",
              "         [-20.336365, -22.095469, -21.215916],\n",
              "         [-21.579391, -22.835209, -22.2073  ],\n",
              "         ...,\n",
              "         [-22.09998 , -22.279076, -22.189528],\n",
              "         [-19.382475, -23.438984, -21.410728],\n",
              "         [-17.522478, -23.23467 , -20.378574]],\n",
              "\n",
              "        [[-18.283049, -25.269741, -21.776394],\n",
              "         [-22.457432, -22.457432, -22.457432],\n",
              "         [-20.630898, -22.644302, -21.6376  ],\n",
              "         ...,\n",
              "         [-19.645702, -23.034916, -21.34031 ],\n",
              "         [-19.51316 , -23.23467 , -21.373917],\n",
              "         [-19.127127, -23.439123, -21.283125]]],\n",
              "\n",
              "\n",
              "       [[[-19.909191, -24.44487 , -22.17703 ],\n",
              "         [-20.678406, -24.956001, -22.817204],\n",
              "         [-20.208834, -27.722103, -23.96547 ],\n",
              "         ...,\n",
              "         [-19.481691, -26.386364, -22.934029],\n",
              "         [-18.679396, -25.50234 , -22.090868],\n",
              "         [-17.8284  , -27.370825, -22.599613]],\n",
              "\n",
              "        [[-20.36252 , -28.477825, -24.420174],\n",
              "         [-19.478495, -26.38317 , -22.930832],\n",
              "         [-21.34693 , -26.07837 , -23.71265 ],\n",
              "         ...,\n",
              "         [-20.212029, -25.787102, -22.999565],\n",
              "         [-21.350174, -25.50234 , -23.426258],\n",
              "         [-18.552643, -27.370825, -22.961735]],\n",
              "\n",
              "        [[-20.05772 , -27.026814, -23.542267],\n",
              "         [-19.478495, -26.38317 , -22.930832],\n",
              "         [-19.909338, -23.505087, -21.707212],\n",
              "         ...,\n",
              "         [-20.52232 , -25.226574, -22.874447],\n",
              "         [-20.52232 , -25.226574, -22.874447],\n",
              "         [-17.377083, -24.959345, -21.168213]],\n",
              "\n",
              "        ...,\n",
              "\n",
              "        [[-23.286259, -23.506166, -23.396214],\n",
              "         [-22.072351, -22.658138, -22.365246],\n",
              "         [-20.679682, -27.028088, -23.853886],\n",
              "         ...,\n",
              "         [-20.523502, -27.371958, -23.947731],\n",
              "         [-21.179401, -27.372005, -24.275703],\n",
              "         [-19.207256, -28.886469, -24.046864]],\n",
              "\n",
              "        [[-22.658138, -21.176105, -21.917122],\n",
              "         [-21.885601, -24.201506, -23.043552],\n",
              "         [-21.885601, -24.201506, -23.043552],\n",
              "         ...,\n",
              "         [-18.939878, -25.78833 , -22.364105],\n",
              "         [-18.680628, -24.960527, -21.820578],\n",
              "         [-19.207256, -28.886469, -24.046864]],\n",
              "\n",
              "        [[-20.520252, -23.07183 , -21.796041],\n",
              "         [-22.0724  , -22.458504, -22.265451],\n",
              "         [-20.842087, -27.368805, -24.105446],\n",
              "         ...,\n",
              "         [-17.488865, -23.07508 , -20.281973],\n",
              "         [-17.94617 , -23.289606, -20.61789 ],\n",
              "         [-17.269056, -28.096298, -22.682678]]]], dtype=float32)"
            ]
          },
          "metadata": {},
          "execution_count": 14
        }
      ],
      "source": [
        "X_train"
      ]
    },
    {
      "cell_type": "code",
      "execution_count": null,
      "metadata": {
        "id": "AE34BUufMLCN"
      },
      "outputs": [],
      "source": [
        "X_band_test_1=np.array([np.array(band).astype(np.float32).reshape(75, 75) for band in test[\"band_1\"]])\n",
        "X_band_test_2=np.array([np.array(band).astype(np.float32).reshape(75, 75) for band in test[\"band_2\"]])\n",
        "X_band_test_3=(X_band_test_1+X_band_test_2)/2\n",
        "#X_band_test_3=np.array([np.full((75, 75), angel).astype(np.float32) for angel in test[\"inc_angle\"]])\n",
        "X_test = np.concatenate([X_band_test_1[:, :, :, np.newaxis]\n",
        "                          , X_band_test_2[:, :, :, np.newaxis]\n",
        "                         , X_band_test_3[:, :, :, np.newaxis]], axis=-1) #배열(array)이나 텐서(tensor)의 마지막 차원(dimension)"
      ]
    },
    {
      "cell_type": "code",
      "execution_count": null,
      "metadata": {
        "id": "G39sXXHJMQlV"
      },
      "outputs": [],
      "source": [
        "#Import Keras.\n",
        "from matplotlib import pyplot\n",
        "from keras.optimizers import RMSprop\n",
        "from keras.preprocessing.image import ImageDataGenerator\n",
        "from keras.models import Sequential\n",
        "from keras.layers import Conv2D, MaxPooling2D, Dense, Dropout, Input, Flatten, Activation\n",
        "from keras.layers import GlobalMaxPooling2D\n",
        "from keras.layers import BatchNormalization\n",
        "from keras.layers import Concatenate\n",
        "from keras.models import Model\n",
        "from keras import initializers\n",
        "from keras.optimizers import Adam\n",
        "from tensorflow.keras.optimizers import RMSprop\n",
        "from keras.layers import LeakyReLU, PReLU\n",
        "from keras.optimizers import SGD\n",
        "from keras.callbacks import ModelCheckpoint, Callback, EarlyStopping\n",
        "\n",
        "from keras.datasets import cifar10\n",
        "from keras.applications.inception_v3 import InceptionV3\n",
        "from keras.applications.vgg16 import VGG16\n",
        "from keras.applications.xception import Xception\n",
        "from keras.applications.mobilenet import MobileNet\n",
        "from keras.applications.vgg19 import VGG19\n",
        "from keras.layers import Concatenate, Dense, LSTM, Input, concatenate\n",
        "from keras.preprocessing import image\n",
        "from keras.applications.vgg16 import preprocess_input"
      ]
    },
    {
      "cell_type": "code",
      "execution_count": null,
      "metadata": {
        "id": "mY7dfFEJMQpo"
      },
      "outputs": [],
      "source": [
        "#Data Aug for multi-input\n",
        "from keras.preprocessing.image import ImageDataGenerator #데이터증강 시 사용하는 것\n",
        "batch_size=64 #한 번 iteration에 사용할 샘플의 수를 정의\n",
        "#즉, 모델을 훈련할 때 한 번에 몇 개의 이미지를 네트워크에 입력할 것인지를 결정\n",
        "# Define the image transformations here\n",
        "gen = ImageDataGenerator(horizontal_flip = True,\n",
        "                         vertical_flip = True,\n",
        "                         width_shift_range = 0.,\n",
        "                         height_shift_range = 0.,\n",
        "                         channel_shift_range=0, #이미지의 색상 채널 값을 랜덤하게 변경\n",
        "                         zoom_range = 0.2,\n",
        "                         rotation_range = 10)"
      ]
    },
    {
      "cell_type": "code",
      "execution_count": null,
      "metadata": {
        "id": "9gdYHOwNMQum"
      },
      "outputs": [],
      "source": [
        "# generator를 X1,X2에 , X1과 y에 적용하는 것\n",
        "# We use the exact same generator with the same random seed for both the y and angle arrays\n",
        "def gen_flow_for_two_inputs(X1, X2, y):\n",
        "  #gen 자체가 데이터 증강 함수인 거고 gen.flow는 증강한 이미지를 배치로 다시 재정렬하는 느낌인거 아니가?\n",
        "    genX1 = gen.flow(X1,y,  batch_size=batch_size,seed=55) #.flow는 이미지 데이터를 배치로 모델에 공급\n",
        "    #fit이랑 비슷한 느낌인\n",
        "    #근데 왜 (X1,y) (X1,X2) 이렇게 묶은 거임?\n",
        "    genX2 = gen.flow(X1,X2, batch_size=batch_size,seed=55)\n",
        "    while True:\n",
        "            X1i = genX1.next()\n",
        "            X2i = genX2.next()\n",
        "            yield [X1i[0], X2i[1]], X1i[1]"
      ]
    },
    {
      "cell_type": "code",
      "execution_count": null,
      "metadata": {
        "id": "9IbB91TjMc6O"
      },
      "outputs": [],
      "source": [
        "# Finally create generator #\n",
        "def get_callbacks(filepath, patience=2):\n",
        "   es = EarlyStopping('val_loss', patience=10, mode=\"min\")\n",
        "   msave = ModelCheckpoint(filepath, save_best_only=True)\n",
        "   return [es, msave]\n",
        "\n",
        "#EarlyStopping\n",
        "#정의: EarlyStopping은 모델의 학습을 조기에 종료시키는 콜백\n",
        "#이 콜백은 특정 메트릭(예: 검증 데이터에 대한 손실 값)이 더 이상 개선되지 않을 때 학습을 멈추게 함\n",
        "#Patience: patience 매개변수는 지정된 메트릭의 개선이 멈춘 후 몇 에포크까지 학습을 계속 진행할 것인지를 결정\n",
        "#예를 들어, patience=10은 메트릭이 마지막으로 개선된 이후 10개의 에포크 동안 추가 개선이 없을 경우 학습을 중단하겠다는 것을 의미\n",
        "#목적: EarlyStopping의 주요 목적은 과적합을 방지하고, 학습 시간을 단축시키기 위함\n",
        "#모델이 검증 데이터에 대해 더 이상 개선되지 않는다면, 과적합의 위험이 있으므로 학습을 조기에 종료하는 것이 좋음\n",
        "\n",
        "#정의: ModelCheckpoint 콜백은 학습 중인 모델의 가중치를 저장.\n",
        "#모델이 더 좋은 성능을 보일 때마다 중간 저장을 할 수 있으며, 학습이 끝난 후에도 최적의 모델을 사용할 수 있음\n",
        "#save_best_only: save_best_only=True 매개변수는 메트릭이 개선될 때만 모델을 저장하겠다는 것을 의미\n",
        "# 이 옵션을 사용하면 디스크 공간을 절약하고, 항상 최고의 모델만을 보존 가능"
      ]
    },
    {
      "cell_type": "code",
      "execution_count": null,
      "metadata": {
        "id": "WcI6n4g8Mc_a"
      },
      "outputs": [],
      "source": [
        "def getVggAngleModel():\n",
        "    input_2 = Input(shape=[1], name=\"angle\") #angle의 input은 단일차원 숫자이므로, shape=[1]\n",
        "    angle_layer = Dense(1, )(input_2) # 위의 angle값을 기반으로 한 Fully Connected Layer -> Dense(1,)\n",
        "    #(1,)이 들어간 이유는 출력차원이 1이고 angle 입력을 기반으로 해서 1차원을 내보낸다는\n",
        "    #Dense 레이어의 출력 차원\n",
        "    #Dense 자체가 Fully connected layer와 같은 말\n",
        "    base_model = VGG16(weights='imagenet', include_top=False,\n",
        "                 input_shape=X_train.shape[1:], classes=1)\n",
        "\n",
        "    x = base_model.get_layer('block5_pool').output\n",
        "    #shape[1:] -> X_train의 첫 번째 차원(일반적으로 배치 크기를 의미)을 제외한 나머지 차원의 형태를 나타냄\n",
        "    #예를 들어, X_train이 (배치 크기, 높이, 너비, 채널) 형태의 이미지 데이터라면,\n",
        "    # X_train.shape[1:]는 (높이, 너비, 채널)을 의미\n",
        "    #(1604, 75, 75, 3) <<\n",
        "    #classes=1은 분류할 클래스의 수를 의미,\n",
        "    #include_top=False -> 마지막 FC레이어를 포함X\n",
        "\n",
        "    #block5_pool은 VGG16 모델 내의 특정 레이어의 이름으로,\n",
        "    #이 레이어는 모델의 다섯 번째 블록에서 마지막 풀링 레이어를 의미\n",
        "    #.output은 해당 레이어의 출력을 나타내며, 이를 통해 block5_pool 레이어의 출력을 다음 모델 구성 단계의 입력으로 사용\n",
        "\n",
        "\n",
        "#추상화 수준: block5_pool은 VGG16의 마지막 pooling 레이어로, 매우 추상화된 표현을 학습함.\n",
        "\n",
        "    x = GlobalMaxPooling2D()(x)\n",
        "    #block5_pool에서도 충분히 특성 추출이 되었지만 maxpooling을 해줘서\n",
        "    #차원 축소: GlobalMaxPooling2D는 각 특성 맵(feature map)에서 최대값만을 추출하여, 그 결과로 하나의 숫자(최대값)를 반환\n",
        "    merge_one = concatenate([x, angle_layer])\n",
        "    merge_one = Dense(512, activation='relu', name='fc2')(merge_one)\n",
        "\n",
        "    #이 레이어를 통과한 후의 데이터 형태는 (batch_size, height, width, channels)의 4차원 텐서\n",
        "    #여기서 height와 width는 원본 이미지의 크기가 여러 컨볼루션과 풀링 레이어를 통과하면서 축소된 크기\n",
        "    #그리고 channels는 특성 맵의 개수로, block5_pool에서는 512개\n",
        "    #예를 들어, 입력 이미지가 224x224 크기를 가지고 block5_pool을 통과한 후의 텐서 크기는 (batch_size, 7, 7, 512)가 됨\n",
        "    #여기서 7x7은 이미지의 각 차원이 축소된 크기이며, 512는 특성 맵의 개수\n",
        "\n",
        "    #GlobalMaxPooling2D는 (batch_size, channels)의 2차원 텐서로 변환\n",
        "    #이 과정에서 height와 width 차원이 제거되고, 각 특성 맵에서 하나의 최대값만이 남게 됨\n",
        "    #-> 결국 (batch_size, 512) 형태를 가지게됨\n",
        "    #이는 각 이미지(배치 내의 각 아이템)에 대해 512개의 최대값을 가지는 벡터가 되며,\n",
        "    #각 최대값은 해당 특성 맵에서 가장 두드러진 특성의 강도를 나타냄냄\n",
        "\n",
        "    merge_one = Dropout(0.3)(merge_one)\n",
        "    merge_one = Dense(512, activation='relu', name='fc3')(merge_one)\n",
        "    merge_one = Dropout(0.3)(merge_one)\n",
        "\n",
        "    predictions = Dense(1, activation='sigmoid')(merge_one)\n",
        "\n",
        "    model = Model(inputs=[base_model.input, input_2], outputs=predictions) #base_model.input\n",
        "    sgd = SGD(learning_rate=1e-3, momentum=0.9, nesterov=True)\n",
        "    model.compile(loss='binary_crossentropy',\n",
        "                  optimizer=sgd,\n",
        "                  metrics=['accuracy'])\n",
        "    return model\n"
      ]
    },
    {
      "cell_type": "code",
      "execution_count": null,
      "metadata": {
        "id": "OK1sBQCxwBI3"
      },
      "outputs": [],
      "source": [
        "#Using K-fold Cross Validation with Data Augmentation.\n",
        "def myAngleCV(X_train, X_angle, X_test):\n",
        "    K=3\n",
        "    folds = list(StratifiedKFold(n_splits=K, shuffle=True, random_state=16).split(X_train, target_train))\n",
        "    y_test_pred_log = 0\n",
        "    y_train_pred_log=0\n",
        "    y_valid_pred_log = 0.0*target_train\n",
        "    for j, (train_idx, test_idx) in enumerate(folds):\n",
        "        print('\\n===================FOLD=',j)\n",
        "        X_train_cv = X_train[train_idx] #shape랑은 관계없이 몇번째 이미지이\n",
        "        y_train_cv = target_train[train_idx]\n",
        "        X_holdout = X_train[test_idx] #hold: 검증 test\n",
        "        Y_holdout= target_train[test_idx] #hold: 검증 test\n",
        "\n",
        "        #Angle\n",
        "        X_angle_cv=X_angle[train_idx]\n",
        "        X_angle_hold=X_angle[test_idx] #hold: 검증 test\n",
        "\n",
        "        #define file path and get callbacks\n",
        "        file_path = \"%s_aug_model_weights.hdf5\"%j\n",
        "        #%s_aug_model_weights.hdf5 포맷에서 %s는 각 교차 검증 폴드의 인덱스(j)로 대체됨\n",
        "        #j가 0인 경우, 파일 경로는 0_aug_model_weights.hdf5가 됨\n",
        "        #=첫 번째 교차 검증 폴드의 모델 가중치를 저장하는 파일명\n",
        "        #.hdf5 확장자는 Hierarchical Data Format version 5의 약자로, 다양한 유형의 대규모 데이터셋을 저장하기 위한 파일 포맷-> Keras에서는 모델의 구조와 가중치를 이 포맷으로 저장하고 불러오는 것을 지원\n",
        "        callbacks = get_callbacks(filepath=file_path, patience=5)\n",
        "        gen_flow = gen_flow_for_two_inputs(X_train_cv, X_angle_cv, y_train_cv)\n",
        "        galaxyModel= getVggAngleModel()\n",
        "        galaxyModel.fit_generator(\n",
        "                gen_flow,\n",
        "                steps_per_epoch=24, #fit_generator 메서드를 사용하여 gen_flow 제너레이터로부터 데이터를 받아 모델을 학습\n",
        "                #여기서 steps_per_epoch=24는 각 에폭에서 24개의 배치를 사용하여 모델을 학습시킴\n",
        "                #배치 크기가 64이므로, 한 에폭에서 처리되는 데이터의 총량은 24 * 64\n",
        "                epochs=100,\n",
        "                shuffle=True,\n",
        "                verbose=1, #verbose=1을 설정하면, 모델이 각 에포크를 거칠 때마다 훈련 손실(loss), 검증 손실(validation loss), 훈련 정확도(training accuracy),\n",
        "                #검증 정확도(validation accuracy)와 같은 주요 메트릭들에 대한 정보를 진행 바와 함께 출력\n",
        "                validation_data=([X_holdout,X_angle_hold], Y_holdout),\n",
        "                callbacks=callbacks)\n",
        "\n",
        "        #Getting the Best Model\n",
        "        galaxyModel.load_weights(filepath=file_path)\n",
        "        #Getting Training Score\n",
        "        score = galaxyModel.evaluate([X_train_cv,X_angle_cv], y_train_cv, verbose=0)\n",
        "        print('Train loss:', score[0]) #score의 0번째 index가 loss\n",
        "        print('Train accuracy:', score[1]) #score의 1번째 index가 accuracy\n",
        "        #Getting Test Score\n",
        "        score = galaxyModel.evaluate([X_holdout,X_angle_hold], Y_holdout, verbose=0)\n",
        "        print('Test loss:', score[0])\n",
        "        print('Test accuracy:', score[1])\n",
        "\n",
        "        #Getting validation Score.\n",
        "        pred_valid=galaxyModel.predict([X_holdout,X_angle_hold]) #X_holdout: X_train[test_indx]\n",
        "        #galaxyModel.predict([X_holdout, X_angle_hold])은 검증 세트(X_holdout과 X_angle_hold)에 대한 모델의 예측을 수행\n",
        "        #여기서 X_holdout은 이미지 데이터, X_angle_hold는 해당 이미지들의 추가 정보(예: 각도)를 나타냄\n",
        "        y_valid_pred_log[test_idx] = pred_valid.reshape(pred_valid.shape[0])\n",
        "        #pred_valid.reshape(pred_valid.shape[0])은 예측 결과를 1차원 배열로 변환\n",
        "        #이는 각 예측의 차원을 단순화하여, 각 데이터 포인트에 대한 예측값만을 배열로 갖기 위함\n",
        "        #첫 번째 차원은 데이터 포인트의 수(또는 배치 크기)를 나타내고,\n",
        "        #두 번째 차원은 출력 클래스의 확률이나 회귀 결과\n",
        "        #예측 결과가 [배치 크기, 출력 크기] 형태인 경우, .shape[0]은 배치 내의 샘플 수(데이터 포인트의 수)\n",
        "        #따라서, 이 값을 사용하여 예측 결과를 1차원 배열로 재구성하거나, 특정 작업을 수행할 때 기준으로 삼을 수 있음\n",
        "        #즉, pred_log라는 값을 새로 만들 때 shape를 valid를 배치크기라는 1차원 shape로 다시 reshape를 하고 싶은 것\n",
        "\n",
        "\n",
        "        #Getting Test Scores\n",
        "        temp_test=galaxyModel.predict([X_test, X_test_angle])\n",
        "        y_test_pred_log+=temp_test.reshape(temp_test.shape[0])\n",
        "        #이 예측 결과를 1차원 배열로 변환하고, y_test_pred_log 배열에 누적\n",
        "        #이 배열은 교차 검증의 모든 폴드에서 테스트 데이터에 대한 예측 결과를 누적하기 위해 사용\n",
        "        #모든 폴드에 대한 예측을 누적함으로써, 전체 데이터셋에 대한 종합적인 성능 평가를 수행할 수 있음\n",
        "\n",
        "        #Getting Train Scores\n",
        "        temp_train=galaxyModel.predict([X_train, X_angle])\n",
        "        y_train_pred_log+=temp_train.reshape(temp_train.shape[0])\n",
        "\n",
        "    y_test_pred_log=y_test_pred_log/K ##누적값이니까 K값으로 나눠줘야 함?\n",
        "    y_train_pred_log=y_train_pred_log/K\n",
        "\n",
        "    print('\\n Train Log Loss Validation= ',log_loss(target_train, y_train_pred_log))\n",
        "    print(' Test Log Loss Validation= ',log_loss(target_train, y_valid_pred_log))\n",
        "    return y_test_pred_log\n",
        "\n",
        "\n",
        "    #여기서\n",
        "    #Validation score, train score, test score 이 세가지를 모두 측정한 것임!그치만 test_pred_log만 return함\n",
        "\n",
        "    #train score가 훈련 데이터에 너무 잘 맞으면(훈련 정확도가 매우 높으면), 새로운 데이터에 대한 성능(일반화 성능)이 오히려 떨어질 수 있음\n",
        "    #훈련 점수와 검증 점수의 차이를 비교함으로써 과적합을 감지할 수 있음"
      ]
    },
    {
      "cell_type": "code",
      "execution_count": null,
      "metadata": {
        "colab": {
          "base_uri": "https://localhost:8080/"
        },
        "id": "Z6s75j-id-Ah",
        "outputId": "012e27eb-d2c5-4257-baeb-6017a4aadd48"
      },
      "outputs": [
        {
          "output_type": "execute_result",
          "data": {
            "text/plain": [
              "(1604, 75, 75, 3)"
            ]
          },
          "metadata": {},
          "execution_count": 23
        }
      ],
      "source": [
        "X_train.shape"
      ]
    },
    {
      "cell_type": "code",
      "execution_count": null,
      "metadata": {
        "colab": {
          "base_uri": "https://localhost:8080/"
        },
        "id": "iGyk8MBqebCI",
        "outputId": "68ff1db4-868d-45fd-ff68-4d4c3ac023ea"
      },
      "outputs": [
        {
          "output_type": "execute_result",
          "data": {
            "text/plain": [
              "(1604,)"
            ]
          },
          "metadata": {},
          "execution_count": 24
        }
      ],
      "source": [
        "X_angle.shape"
      ]
    },
    {
      "cell_type": "code",
      "execution_count": null,
      "metadata": {
        "colab": {
          "base_uri": "https://localhost:8080/"
        },
        "id": "TzJ1wcwpedcg",
        "outputId": "f76eed8d-1a96-4418-a6d1-8f9905766370"
      },
      "outputs": [
        {
          "output_type": "execute_result",
          "data": {
            "text/plain": [
              "(1604,)"
            ]
          },
          "metadata": {},
          "execution_count": 25
        }
      ],
      "source": [
        "target_train.shape"
      ]
    },
    {
      "cell_type": "code",
      "execution_count": null,
      "metadata": {
        "colab": {
          "base_uri": "https://localhost:8080/"
        },
        "id": "rPGLHfqXNiYg",
        "outputId": "ec9b1e8c-7126-4c53-d5cc-be4dd7837f99"
      },
      "outputs": [
        {
          "output_type": "stream",
          "name": "stdout",
          "text": [
            "\n",
            "===================FOLD= 0\n",
            "Downloading data from https://storage.googleapis.com/tensorflow/keras-applications/vgg16/vgg16_weights_tf_dim_ordering_tf_kernels_notop.h5\n",
            "58889256/58889256 [==============================] - 0s 0us/step\n"
          ]
        },
        {
          "output_type": "stream",
          "name": "stderr",
          "text": [
            "<ipython-input-22-797144f62d20>:28: UserWarning: `Model.fit_generator` is deprecated and will be removed in a future version. Please use `Model.fit`, which supports generators.\n",
            "  galaxyModel.fit_generator(\n"
          ]
        },
        {
          "output_type": "stream",
          "name": "stdout",
          "text": [
            "Epoch 1/100\n",
            "24/24 [==============================] - ETA: 0s - loss: 0.9848 - accuracy: 0.4759"
          ]
        },
        {
          "output_type": "stream",
          "name": "stderr",
          "text": [
            "/usr/local/lib/python3.10/dist-packages/keras/src/engine/training.py:3103: UserWarning: You are saving your model as an HDF5 file via `model.save()`. This file format is considered legacy. We recommend using instead the native Keras format, e.g. `model.save('my_model.keras')`.\n",
            "  saving_api.save_model(\n"
          ]
        },
        {
          "output_type": "stream",
          "name": "stdout",
          "text": [
            "\b\b\b\b\b\b\b\b\b\b\b\b\b\b\b\b\b\b\b\b\b\b\b\b\b\b\b\b\b\b\b\b\b\b\b\b\b\b\b\b\b\b\b\b\b\b\b\b\b\b\b\b\b\b\b\b\b\b\b\b\b\b\b\b\b\b\b\b\b\b\b\b\b\b\b\b\b\b\b\b\b\b\r24/24 [==============================] - 25s 544ms/step - loss: 0.9848 - accuracy: 0.4759 - val_loss: 0.6447 - val_accuracy: 0.6561\n",
            "Epoch 2/100\n",
            "24/24 [==============================] - 6s 249ms/step - loss: 0.6165 - accuracy: 0.6506 - val_loss: 0.8375 - val_accuracy: 0.5869\n",
            "Epoch 3/100\n",
            "24/24 [==============================] - 6s 243ms/step - loss: 0.5094 - accuracy: 0.7383 - val_loss: 0.3456 - val_accuracy: 0.8411\n",
            "Epoch 4/100\n",
            "24/24 [==============================] - 7s 285ms/step - loss: 0.4034 - accuracy: 0.8154 - val_loss: 0.3237 - val_accuracy: 0.8336\n",
            "Epoch 5/100\n",
            "24/24 [==============================] - 5s 230ms/step - loss: 0.3124 - accuracy: 0.8578 - val_loss: 0.2476 - val_accuracy: 0.8991\n",
            "Epoch 6/100\n",
            "24/24 [==============================] - 5s 220ms/step - loss: 0.2940 - accuracy: 0.8695 - val_loss: 0.2548 - val_accuracy: 0.8916\n",
            "Epoch 7/100\n",
            "24/24 [==============================] - 6s 256ms/step - loss: 0.2749 - accuracy: 0.8807 - val_loss: 0.2517 - val_accuracy: 0.9047\n",
            "Epoch 8/100\n",
            "24/24 [==============================] - 5s 232ms/step - loss: 0.2455 - accuracy: 0.8932 - val_loss: 0.2231 - val_accuracy: 0.9215\n",
            "Epoch 9/100\n",
            "24/24 [==============================] - 7s 284ms/step - loss: 0.2303 - accuracy: 0.9005 - val_loss: 0.2192 - val_accuracy: 0.9178\n",
            "Epoch 10/100\n",
            "24/24 [==============================] - 5s 215ms/step - loss: 0.2436 - accuracy: 0.9032 - val_loss: 0.2442 - val_accuracy: 0.9009\n",
            "Epoch 11/100\n",
            "24/24 [==============================] - 8s 326ms/step - loss: 0.2137 - accuracy: 0.9077 - val_loss: 0.2726 - val_accuracy: 0.9009\n",
            "Epoch 12/100\n",
            "24/24 [==============================] - 5s 233ms/step - loss: 0.2250 - accuracy: 0.9071 - val_loss: 0.2625 - val_accuracy: 0.8953\n",
            "Epoch 13/100\n",
            "24/24 [==============================] - 5s 215ms/step - loss: 0.2150 - accuracy: 0.9172 - val_loss: 0.2248 - val_accuracy: 0.9290\n",
            "Epoch 14/100\n",
            "24/24 [==============================] - 6s 271ms/step - loss: 0.2040 - accuracy: 0.9110 - val_loss: 0.3020 - val_accuracy: 0.8748\n",
            "Epoch 15/100\n",
            "24/24 [==============================] - 5s 204ms/step - loss: 0.2106 - accuracy: 0.9179 - val_loss: 0.2716 - val_accuracy: 0.9009\n",
            "Epoch 16/100\n",
            "24/24 [==============================] - 7s 285ms/step - loss: 0.1985 - accuracy: 0.9163 - val_loss: 0.2538 - val_accuracy: 0.8991\n",
            "Epoch 17/100\n",
            "24/24 [==============================] - 5s 201ms/step - loss: 0.1731 - accuracy: 0.9286 - val_loss: 0.2480 - val_accuracy: 0.9047\n",
            "Epoch 18/100\n",
            "24/24 [==============================] - 6s 239ms/step - loss: 0.1690 - accuracy: 0.9334 - val_loss: 0.2919 - val_accuracy: 0.9065\n",
            "Epoch 19/100\n",
            "24/24 [==============================] - 6s 258ms/step - loss: 0.1667 - accuracy: 0.9328 - val_loss: 0.2605 - val_accuracy: 0.9121\n",
            "Train loss: 0.18264596164226532\n",
            "Train accuracy: 0.9148737192153931\n",
            "Test loss: 0.21916522085666656\n",
            "Test accuracy: 0.9177570343017578\n",
            "17/17 [==============================] - 1s 20ms/step\n",
            "264/264 [==============================] - 6s 23ms/step\n",
            "51/51 [==============================] - 2s 33ms/step\n",
            "\n",
            "===================FOLD= 1\n"
          ]
        },
        {
          "output_type": "stream",
          "name": "stderr",
          "text": [
            "<ipython-input-22-797144f62d20>:28: UserWarning: `Model.fit_generator` is deprecated and will be removed in a future version. Please use `Model.fit`, which supports generators.\n",
            "  galaxyModel.fit_generator(\n"
          ]
        },
        {
          "output_type": "stream",
          "name": "stdout",
          "text": [
            "Epoch 1/100\n",
            "24/24 [==============================] - ETA: 0s - loss: 0.6906 - accuracy: 0.5913"
          ]
        },
        {
          "output_type": "stream",
          "name": "stderr",
          "text": [
            "/usr/local/lib/python3.10/dist-packages/keras/src/engine/training.py:3103: UserWarning: You are saving your model as an HDF5 file via `model.save()`. This file format is considered legacy. We recommend using instead the native Keras format, e.g. `model.save('my_model.keras')`.\n",
            "  saving_api.save_model(\n"
          ]
        },
        {
          "output_type": "stream",
          "name": "stdout",
          "text": [
            "\b\b\b\b\b\b\b\b\b\b\b\b\b\b\b\b\b\b\b\b\b\b\b\b\b\b\b\b\b\b\b\b\b\b\b\b\b\b\b\b\b\b\b\b\b\b\b\b\b\b\b\b\b\b\b\b\b\b\b\b\b\b\b\b\b\b\b\b\b\b\b\b\b\b\b\b\b\b\b\b\b\b\r24/24 [==============================] - 9s 248ms/step - loss: 0.6906 - accuracy: 0.5913 - val_loss: 0.4458 - val_accuracy: 0.7738\n",
            "Epoch 2/100\n",
            "24/24 [==============================] - 7s 297ms/step - loss: 0.4478 - accuracy: 0.7792 - val_loss: 0.3415 - val_accuracy: 0.8187\n",
            "Epoch 3/100\n",
            "24/24 [==============================] - 5s 218ms/step - loss: 0.3656 - accuracy: 0.8204 - val_loss: 0.3467 - val_accuracy: 0.8224\n",
            "Epoch 4/100\n",
            "24/24 [==============================] - 7s 306ms/step - loss: 0.3269 - accuracy: 0.8477 - val_loss: 0.2589 - val_accuracy: 0.8991\n",
            "Epoch 5/100\n",
            "24/24 [==============================] - 6s 275ms/step - loss: 0.2978 - accuracy: 0.8611 - val_loss: 0.2531 - val_accuracy: 0.8953\n",
            "Epoch 6/100\n",
            "24/24 [==============================] - 6s 269ms/step - loss: 0.2752 - accuracy: 0.8721 - val_loss: 0.2839 - val_accuracy: 0.8486\n",
            "Epoch 7/100\n",
            "24/24 [==============================] - 6s 251ms/step - loss: 0.2691 - accuracy: 0.8820 - val_loss: 0.2224 - val_accuracy: 0.9065\n",
            "Epoch 8/100\n",
            "24/24 [==============================] - 6s 244ms/step - loss: 0.2464 - accuracy: 0.8925 - val_loss: 0.2320 - val_accuracy: 0.9009\n",
            "Epoch 9/100\n",
            "24/24 [==============================] - 5s 218ms/step - loss: 0.2498 - accuracy: 0.8939 - val_loss: 0.2307 - val_accuracy: 0.8953\n",
            "Epoch 10/100\n",
            "24/24 [==============================] - 6s 276ms/step - loss: 0.2240 - accuracy: 0.9012 - val_loss: 0.2133 - val_accuracy: 0.9009\n",
            "Epoch 11/100\n",
            "24/24 [==============================] - 6s 273ms/step - loss: 0.2111 - accuracy: 0.9143 - val_loss: 0.2070 - val_accuracy: 0.9028\n",
            "Epoch 12/100\n",
            "24/24 [==============================] - 5s 212ms/step - loss: 0.2163 - accuracy: 0.9136 - val_loss: 0.2075 - val_accuracy: 0.9047\n",
            "Epoch 13/100\n",
            "24/24 [==============================] - 6s 274ms/step - loss: 0.2012 - accuracy: 0.9139 - val_loss: 0.2216 - val_accuracy: 0.9140\n",
            "Epoch 14/100\n",
            "24/24 [==============================] - 6s 238ms/step - loss: 0.2204 - accuracy: 0.9130 - val_loss: 0.1868 - val_accuracy: 0.9252\n",
            "Epoch 15/100\n",
            "24/24 [==============================] - 6s 246ms/step - loss: 0.1965 - accuracy: 0.9112 - val_loss: 0.1869 - val_accuracy: 0.9009\n",
            "Epoch 16/100\n",
            "24/24 [==============================] - 5s 223ms/step - loss: 0.1883 - accuracy: 0.9275 - val_loss: 0.1905 - val_accuracy: 0.9047\n",
            "Epoch 17/100\n",
            "24/24 [==============================] - 5s 225ms/step - loss: 0.1868 - accuracy: 0.9172 - val_loss: 0.2850 - val_accuracy: 0.8991\n",
            "Epoch 18/100\n",
            "24/24 [==============================] - 6s 271ms/step - loss: 0.1941 - accuracy: 0.9189 - val_loss: 0.1888 - val_accuracy: 0.9084\n",
            "Epoch 19/100\n",
            "24/24 [==============================] - 5s 227ms/step - loss: 0.1675 - accuracy: 0.9314 - val_loss: 0.1782 - val_accuracy: 0.9121\n",
            "Epoch 20/100\n",
            "24/24 [==============================] - 6s 273ms/step - loss: 0.1692 - accuracy: 0.9319 - val_loss: 0.1911 - val_accuracy: 0.9215\n",
            "Epoch 21/100\n",
            "24/24 [==============================] - 5s 219ms/step - loss: 0.1604 - accuracy: 0.9314 - val_loss: 0.1929 - val_accuracy: 0.9103\n",
            "Epoch 22/100\n",
            "24/24 [==============================] - 6s 250ms/step - loss: 0.1668 - accuracy: 0.9266 - val_loss: 0.2021 - val_accuracy: 0.9140\n",
            "Epoch 23/100\n",
            "24/24 [==============================] - 5s 223ms/step - loss: 0.1488 - accuracy: 0.9367 - val_loss: 0.2011 - val_accuracy: 0.9290\n",
            "Epoch 24/100\n",
            "24/24 [==============================] - 5s 217ms/step - loss: 0.1533 - accuracy: 0.9413 - val_loss: 0.2264 - val_accuracy: 0.8935\n",
            "Epoch 25/100\n",
            "24/24 [==============================] - 8s 327ms/step - loss: 0.1413 - accuracy: 0.9426 - val_loss: 0.2422 - val_accuracy: 0.8916\n",
            "Epoch 26/100\n",
            "24/24 [==============================] - 5s 228ms/step - loss: 0.1163 - accuracy: 0.9506 - val_loss: 0.2209 - val_accuracy: 0.9084\n",
            "Epoch 27/100\n",
            "24/24 [==============================] - 6s 260ms/step - loss: 0.1290 - accuracy: 0.9506 - val_loss: 0.2246 - val_accuracy: 0.9084\n",
            "Epoch 28/100\n",
            "24/24 [==============================] - 5s 230ms/step - loss: 0.1218 - accuracy: 0.9532 - val_loss: 0.2332 - val_accuracy: 0.8972\n",
            "Epoch 29/100\n",
            "24/24 [==============================] - 6s 270ms/step - loss: 0.1372 - accuracy: 0.9328 - val_loss: 0.2197 - val_accuracy: 0.9103\n",
            "Train loss: 0.13119633495807648\n",
            "Train accuracy: 0.9504209756851196\n",
            "Test loss: 0.1781962662935257\n",
            "Test accuracy: 0.9121495485305786\n",
            "17/17 [==============================] - 0s 20ms/step\n",
            "264/264 [==============================] - 6s 21ms/step\n",
            "51/51 [==============================] - 1s 22ms/step\n",
            "\n",
            "===================FOLD= 2\n"
          ]
        },
        {
          "output_type": "stream",
          "name": "stderr",
          "text": [
            "<ipython-input-22-797144f62d20>:28: UserWarning: `Model.fit_generator` is deprecated and will be removed in a future version. Please use `Model.fit`, which supports generators.\n",
            "  galaxyModel.fit_generator(\n"
          ]
        },
        {
          "output_type": "stream",
          "name": "stdout",
          "text": [
            "Epoch 1/100\n",
            "24/24 [==============================] - ETA: 0s - loss: 0.5919 - accuracy: 0.6621"
          ]
        },
        {
          "output_type": "stream",
          "name": "stderr",
          "text": [
            "/usr/local/lib/python3.10/dist-packages/keras/src/engine/training.py:3103: UserWarning: You are saving your model as an HDF5 file via `model.save()`. This file format is considered legacy. We recommend using instead the native Keras format, e.g. `model.save('my_model.keras')`.\n",
            "  saving_api.save_model(\n"
          ]
        },
        {
          "output_type": "stream",
          "name": "stdout",
          "text": [
            "\b\b\b\b\b\b\b\b\b\b\b\b\b\b\b\b\b\b\b\b\b\b\b\b\b\b\b\b\b\b\b\b\b\b\b\b\b\b\b\b\b\b\b\b\b\b\b\b\b\b\b\b\b\b\b\b\b\b\b\b\b\b\b\b\b\b\b\b\b\b\b\b\b\b\b\b\b\b\b\b\b\b\r24/24 [==============================] - 14s 508ms/step - loss: 0.5919 - accuracy: 0.6621 - val_loss: 0.3917 - val_accuracy: 0.8015\n",
            "Epoch 2/100\n",
            "24/24 [==============================] - 6s 238ms/step - loss: 0.3969 - accuracy: 0.8090 - val_loss: 0.3430 - val_accuracy: 0.8427\n",
            "Epoch 3/100\n",
            "24/24 [==============================] - 6s 259ms/step - loss: 0.3022 - accuracy: 0.8633 - val_loss: 0.2858 - val_accuracy: 0.8727\n",
            "Epoch 4/100\n",
            "24/24 [==============================] - 6s 241ms/step - loss: 0.2732 - accuracy: 0.8794 - val_loss: 0.2755 - val_accuracy: 0.8727\n",
            "Epoch 5/100\n",
            "24/24 [==============================] - 6s 248ms/step - loss: 0.2443 - accuracy: 0.9040 - val_loss: 0.2778 - val_accuracy: 0.8858\n",
            "Epoch 6/100\n",
            "24/24 [==============================] - 5s 219ms/step - loss: 0.2310 - accuracy: 0.8986 - val_loss: 0.2843 - val_accuracy: 0.8820\n",
            "Epoch 7/100\n",
            "24/24 [==============================] - 7s 295ms/step - loss: 0.2292 - accuracy: 0.9018 - val_loss: 0.2617 - val_accuracy: 0.9026\n",
            "Epoch 8/100\n",
            "24/24 [==============================] - 5s 209ms/step - loss: 0.2019 - accuracy: 0.9147 - val_loss: 0.2652 - val_accuracy: 0.9007\n",
            "Epoch 9/100\n",
            "24/24 [==============================] - 6s 250ms/step - loss: 0.2082 - accuracy: 0.9065 - val_loss: 0.2790 - val_accuracy: 0.8895\n",
            "Epoch 10/100\n",
            "24/24 [==============================] - 5s 234ms/step - loss: 0.1933 - accuracy: 0.9227 - val_loss: 0.2627 - val_accuracy: 0.8933\n",
            "Epoch 11/100\n",
            "24/24 [==============================] - 5s 221ms/step - loss: 0.1772 - accuracy: 0.9282 - val_loss: 0.3396 - val_accuracy: 0.8652\n",
            "Epoch 12/100\n",
            "24/24 [==============================] - 8s 338ms/step - loss: 0.1755 - accuracy: 0.9256 - val_loss: 0.2818 - val_accuracy: 0.8951\n",
            "Epoch 13/100\n",
            "24/24 [==============================] - 5s 206ms/step - loss: 0.1816 - accuracy: 0.9193 - val_loss: 0.3171 - val_accuracy: 0.8858\n",
            "Epoch 14/100\n",
            "24/24 [==============================] - 6s 270ms/step - loss: 0.1762 - accuracy: 0.9262 - val_loss: 0.2767 - val_accuracy: 0.8951\n",
            "Epoch 15/100\n",
            "24/24 [==============================] - 5s 220ms/step - loss: 0.1579 - accuracy: 0.9340 - val_loss: 0.2725 - val_accuracy: 0.9045\n",
            "Epoch 16/100\n",
            "24/24 [==============================] - 5s 232ms/step - loss: 0.1324 - accuracy: 0.9460 - val_loss: 0.2899 - val_accuracy: 0.8933\n",
            "Epoch 17/100\n",
            "24/24 [==============================] - 6s 254ms/step - loss: 0.1701 - accuracy: 0.9307 - val_loss: 0.2643 - val_accuracy: 0.9026\n",
            "Train loss: 0.16607095301151276\n",
            "Train accuracy: 0.9308411478996277\n",
            "Test loss: 0.26169195771217346\n",
            "Test accuracy: 0.9026217460632324\n",
            "17/17 [==============================] - 0s 20ms/step\n",
            "264/264 [==============================] - 6s 21ms/step\n",
            "51/51 [==============================] - 1s 22ms/step\n",
            "\n",
            " Train Log Loss Validation=  0.1615233348027543\n",
            " Test Log Loss Validation=  0.21965827712627709\n"
          ]
        }
      ],
      "source": [
        "preds=myAngleCV(X_train, X_angle, X_test)\n"
      ]
    },
    {
      "cell_type": "code",
      "source": [
        "!jupyter nbconvert --to pdf --output \"/content/drive/MyDrive/KUBIG/데이터분석 스터디/지윤_iceberg.pdf\" \"/content/drive/MyDrive/KUBIG/데이터분석 스터디/iceberg\".ipynb"
      ],
      "metadata": {
        "colab": {
          "base_uri": "https://localhost:8080/"
        },
        "id": "Z_1WdH4RV7iU",
        "outputId": "6543580e-176d-4348-97d2-b1329013b76b"
      },
      "execution_count": null,
      "outputs": [
        {
          "output_type": "stream",
          "name": "stdout",
          "text": [
            "[NbConvertApp] Converting notebook /content/drive/MyDrive/KUBIG/데이터분석 스터디/iceberg.ipynb to pdf\n",
            "[NbConvertApp] Writing 87810 bytes to notebook.tex\n",
            "[NbConvertApp] Building PDF\n",
            "Traceback (most recent call last):\n",
            "  File \"/usr/local/bin/jupyter-nbconvert\", line 8, in <module>\n",
            "    sys.exit(main())\n",
            "  File \"/usr/local/lib/python3.10/dist-packages/jupyter_core/application.py\", line 283, in launch_instance\n",
            "    super().launch_instance(argv=argv, **kwargs)\n",
            "  File \"/usr/local/lib/python3.10/dist-packages/traitlets/config/application.py\", line 992, in launch_instance\n",
            "    app.start()\n",
            "  File \"/usr/local/lib/python3.10/dist-packages/nbconvert/nbconvertapp.py\", line 423, in start\n",
            "    self.convert_notebooks()\n",
            "  File \"/usr/local/lib/python3.10/dist-packages/nbconvert/nbconvertapp.py\", line 597, in convert_notebooks\n",
            "    self.convert_single_notebook(notebook_filename)\n",
            "  File \"/usr/local/lib/python3.10/dist-packages/nbconvert/nbconvertapp.py\", line 560, in convert_single_notebook\n",
            "    output, resources = self.export_single_notebook(\n",
            "  File \"/usr/local/lib/python3.10/dist-packages/nbconvert/nbconvertapp.py\", line 488, in export_single_notebook\n",
            "    output, resources = self.exporter.from_filename(\n",
            "  File \"/usr/local/lib/python3.10/dist-packages/nbconvert/exporters/exporter.py\", line 189, in from_filename\n",
            "    return self.from_file(f, resources=resources, **kw)\n",
            "  File \"/usr/local/lib/python3.10/dist-packages/nbconvert/exporters/exporter.py\", line 206, in from_file\n",
            "    return self.from_notebook_node(\n",
            "  File \"/usr/local/lib/python3.10/dist-packages/nbconvert/exporters/pdf.py\", line 194, in from_notebook_node\n",
            "    self.run_latex(tex_file)\n",
            "  File \"/usr/local/lib/python3.10/dist-packages/nbconvert/exporters/pdf.py\", line 164, in run_latex\n",
            "    return self.run_command(\n",
            "  File \"/usr/local/lib/python3.10/dist-packages/nbconvert/exporters/pdf.py\", line 111, in run_command\n",
            "    raise OSError(\n",
            "OSError: xelatex not found on PATH, if you have not installed xelatex you may need to do so. Find further instructions at https://nbconvert.readthedocs.io/en/latest/install.html#installing-tex.\n"
          ]
        }
      ]
    },
    {
      "cell_type": "code",
      "source": [
        "%cd /content/drive/MyDrive/KUBIG/데이터분석 스터디\n",
        "!jupyter nbconvert --to html --output \"/content/drive/MyDrive/KUBIG/데이터분석 스터디/지윤_iceberg.html\" \"/content/drive/MyDrive/KUBIG/데이터분석 스터디/iceberg.ipynb\" #sejda에서 html to pdf 변환"
      ],
      "metadata": {
        "colab": {
          "base_uri": "https://localhost:8080/"
        },
        "id": "JecSlD-SYD2E",
        "outputId": "5f4230e8-87b9-4e0e-d2aa-fa4f46e7ea57"
      },
      "execution_count": null,
      "outputs": [
        {
          "output_type": "stream",
          "name": "stdout",
          "text": [
            "/content/drive/MyDrive/KUBIG/데이터분석 스터디\n",
            "[NbConvertApp] Converting notebook /content/drive/MyDrive/KUBIG/데이터분석 스터디/iceberg.ipynb to html\n",
            "[NbConvertApp] Writing 678293 bytes to /content/drive/MyDrive/KUBIG/데이터분석 스터디/지윤_iceberg.html\n"
          ]
        }
      ]
    },
    {
      "cell_type": "code",
      "execution_count": null,
      "metadata": {
        "id": "DwX5Ni3oP9fv"
      },
      "outputs": [],
      "source": [
        "#Submission for each day.\n",
        "submission = pd.DataFrame()\n",
        "submission['id']=test['id']\n",
        "submission['is_iceberg']=preds\n",
        "submission.to_csv('sub.csv', index=False)"
      ]
    }
  ],
  "metadata": {
    "accelerator": "GPU",
    "colab": {
      "gpuType": "T4",
      "provenance": []
    },
    "kernelspec": {
      "display_name": "Python 3",
      "name": "python3"
    },
    "language_info": {
      "name": "python"
    }
  },
  "nbformat": 4,
  "nbformat_minor": 0
}